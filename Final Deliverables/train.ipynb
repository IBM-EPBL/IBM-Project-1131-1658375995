{
 "cells": [
  {
   "cell_type": "code",
   "execution_count": 1,
   "id": "ed39c9d7",
   "metadata": {},
   "outputs": [],
   "source": [
    "import numpy\n",
    "import tensorflow\n",
    "from tensorflow.keras.datasets import mnist\n",
    "from tensorflow.keras.models import Sequential\n",
    "from tensorflow.keras import layers\n",
    "from tensorflow.keras.layers import Dense, Flatten\n",
    "from tensorflow.keras.layers import Conv2D\n",
    "from keras.optimizers import Adam\n",
    "from keras.utils import np_utils\n",
    "import matplotlib.pyplot as plt\n"
   ]
  },
  {
   "cell_type": "code",
   "execution_count": 2,
   "id": "751d9d91",
   "metadata": {},
   "outputs": [],
   "source": [
    "(x_train,y_train),(x_test,y_test)=mnist.load_data()"
   ]
  },
  {
   "cell_type": "code",
   "execution_count": 3,
   "id": "30e9f97a",
   "metadata": {},
   "outputs": [],
   "source": [
    "x_train=x_train.reshape(60000,28,28,1).astype('float32')\n",
    "x_test=x_test.reshape(10000,28,28,1).astype('float32')"
   ]
  },
  {
   "cell_type": "code",
   "execution_count": 4,
   "id": "8c98bf5a",
   "metadata": {},
   "outputs": [],
   "source": [
    "classes=10\n",
    "y_train=np_utils.to_categorical(y_train,classes)\n",
    "y_test=np_utils.to_categorical(y_test,classes)"
   ]
  },
  {
   "cell_type": "code",
   "execution_count": 5,
   "id": "0a07492b",
   "metadata": {},
   "outputs": [],
   "source": [
    "model=Sequential()"
   ]
  },
  {
   "cell_type": "code",
   "execution_count": 6,
   "id": "5e751f8d",
   "metadata": {},
   "outputs": [],
   "source": [
    "model.add(Conv2D(64,(3,3),input_shape=(28,28,1),activation='relu'))"
   ]
  },
  {
   "cell_type": "code",
   "execution_count": 7,
   "id": "f3646bd2",
   "metadata": {},
   "outputs": [],
   "source": [
    "model.add(Conv2D(64,(3,3),activation='relu'))"
   ]
  },
  {
   "cell_type": "code",
   "execution_count": 8,
   "id": "731c142c",
   "metadata": {},
   "outputs": [],
   "source": [
    "model.add(Flatten())"
   ]
  },
  {
   "cell_type": "code",
   "execution_count": 9,
   "id": "8d796ed3",
   "metadata": {},
   "outputs": [],
   "source": [
    "model.add(Dense(classes,activation='softmax'))"
   ]
  },
  {
   "cell_type": "code",
   "execution_count": 10,
   "id": "e8a87811",
   "metadata": {},
   "outputs": [],
   "source": [
    "model.compile(loss='categorical_crossentropy',optimizer=\"Adam\",metrics=['accuracy'])"
   ]
  },
  {
   "cell_type": "code",
   "execution_count": 11,
   "id": "dcb879df",
   "metadata": {},
   "outputs": [
    {
     "name": "stdout",
     "output_type": "stream",
     "text": [
      "Epoch 1/5\n",
      "1875/1875 [==============================] - 525s 278ms/step - loss: 0.2869 - accuracy: 0.9531 - val_loss: 0.0792 - val_accuracy: 0.9750\n",
      "Epoch 2/5\n",
      "1875/1875 [==============================] - 521s 278ms/step - loss: 0.0665 - accuracy: 0.9804 - val_loss: 0.0724 - val_accuracy: 0.9773\n",
      "Epoch 3/5\n",
      "1875/1875 [==============================] - 898s 479ms/step - loss: 0.0456 - accuracy: 0.9859 - val_loss: 0.1010 - val_accuracy: 0.9747\n",
      "Epoch 4/5\n",
      "1875/1875 [==============================] - 520s 277ms/step - loss: 0.0358 - accuracy: 0.9887 - val_loss: 0.1006 - val_accuracy: 0.9771\n",
      "Epoch 5/5\n",
      "1875/1875 [==============================] - 6985s 4s/step - loss: 0.0289 - accuracy: 0.9915 - val_loss: 0.1216 - val_accuracy: 0.9770\n"
     ]
    },
    {
     "data": {
      "text/plain": [
       "<keras.callbacks.History at 0x25fcdf20f70>"
      ]
     },
     "execution_count": 11,
     "metadata": {},
     "output_type": "execute_result"
    }
   ],
   "source": [
    "model.fit(x_train,y_train,validation_data=(x_test,y_test),epochs=5,batch_size=32)"
   ]
  },
  {
   "cell_type": "code",
   "execution_count": 12,
   "id": "adbb3f16",
   "metadata": {},
   "outputs": [
    {
     "name": "stdout",
     "output_type": "stream",
     "text": [
      "[0.12163994461297989, 0.9769999980926514]\n"
     ]
    }
   ],
   "source": [
    "metrics=model.evaluate(x_test,y_test,verbose=0)\n",
    "print(metrics)"
   ]
  },
  {
   "cell_type": "code",
   "execution_count": 13,
   "id": "cac85a0d",
   "metadata": {},
   "outputs": [],
   "source": [
    "model.save('Model/digitrec.h5')"
   ]
  },
  {
   "cell_type": "code",
   "execution_count": null,
   "id": "1c88185a",
   "metadata": {},
   "outputs": [],
   "source": []
  }
 ],
 "metadata": {
  "kernelspec": {
   "display_name": "Python 3 (ipykernel)",
   "language": "python",
   "name": "python3"
  },
  "language_info": {
   "codemirror_mode": {
    "name": "ipython",
    "version": 3
   },
   "file_extension": ".py",
   "mimetype": "text/x-python",
   "name": "python",
   "nbconvert_exporter": "python",
   "pygments_lexer": "ipython3",
   "version": "3.10.7"
  }
 },
 "nbformat": 4,
 "nbformat_minor": 5
}

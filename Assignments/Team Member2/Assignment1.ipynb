{
  "cells": [
    {
      "cell_type": "code",
      "execution_count": null,
      "metadata": {
        "colab": {
          "base_uri": "https://localhost:8080/"
        },
        "id": "tNI0ryQlZFHH",
        "outputId": "da1d656e-1e3d-4a96-a028-707449bf4418"
      },
      "outputs": [
        {
          "name": "stdout",
          "output_type": "stream",
          "text": [
            "Hi there Sam!\n",
            "['Hi', 'there', 'Sam!']\n"
          ]
        }
      ],
      "source": [
        "#Split The String\n",
        "st=\"Hi there Sam!\"\n",
        "name=st.split()\n",
        "print(st)\n",
        "print(name)"
      ]
    },
    {
      "cell_type": "code",
      "execution_count": null,
      "metadata": {
        "colab": {
          "base_uri": "https://localhost:8080/"
        },
        "id": "EvipW3tbal00",
        "outputId": "a02d9e09-e3ee-4370-c8d5-e0a68f32bbdf"
      },
      "outputs": [
        {
          "name": "stdout",
          "output_type": "stream",
          "text": [
            "the diameter of the Earth is 12742 kilometer.\n"
          ]
        }
      ],
      "source": [
        "#.format()\n",
        "name=\"the diameter of the {planet} is {diameter} kilometer.\" .format(planet = \"Earth\" ,diameter=\"12742\")\n",
        "print(name)"
      ]
    },
    {
      "cell_type": "code",
      "execution_count": null,
      "metadata": {
        "colab": {
          "base_uri": "https://localhost:8080/"
        },
        "id": "b1xs5GkUfeHZ",
        "outputId": "279da6fa-d036-427c-8f0a-6d9db2624709"
      },
      "outputs": [
        {
          "name": "stdout",
          "output_type": "stream",
          "text": [
            "hello\n"
          ]
        }
      ],
      "source": [
        "#nest dictionary grab the word \"hello\"\n",
        "d = {'k1':[1,2,3,{'tricky':['oh','man','inception',{'target':[1,2,3,'hello']}]}]}\n",
        "print(d['k1'][3][\"tricky\"][3]['target'][3])"
      ]
    },
    {
      "cell_type": "code",
      "execution_count": null,
      "metadata": {
        "colab": {
          "base_uri": "https://localhost:8080/"
        },
        "id": "HAF7q8S-gv8A",
        "outputId": "d978446d-9d35-4bed-b7af-7f550d10d6d8"
      },
      "outputs": [
        {
          "name": "stdout",
          "output_type": "stream",
          "text": [
            "An array of 10 zeros:\n",
            "[0. 0. 0. 0. 0. 0. 0. 0. 0. 0.]\n"
          ]
        }
      ],
      "source": [
        "# Create an array of 10 zeros?\n",
        "import numpy as np\n",
        "arr=np.zeros(10)\n",
        "print(\"An array of 10 zeros:\")\n",
        "print(arr)"
      ]
    },
    {
      "cell_type": "code",
      "execution_count": null,
      "metadata": {
        "colab": {
          "base_uri": "https://localhost:8080/"
        },
        "id": "Lxjkz1OghCOO",
        "outputId": "5b3603e9-9a7b-4fff-9211-4886dde0736f"
      },
      "outputs": [
        {
          "name": "stdout",
          "output_type": "stream",
          "text": [
            "An array of 10 fives:\n",
            "[5. 5. 5. 5. 5. 5. 5. 5. 5. 5.]\n"
          ]
        }
      ],
      "source": [
        "# Create an array of 10 fives?\n",
        "import numpy as np\n",
        "arr=np.ones(10)*5\n",
        "print(\"An array of 10 fives:\")\n",
        "print(arr)"
      ]
    },
    {
      "cell_type": "code",
      "execution_count": null,
      "metadata": {
        "colab": {
          "base_uri": "https://localhost:8080/"
        },
        "id": "GsOC1LDOhfHF",
        "outputId": "2f5bc4e6-058b-409d-df58-2fec8cc014c3"
      },
      "outputs": [
        {
          "name": "stdout",
          "output_type": "stream",
          "text": [
            "Array of all the even integers from 20 to 35\n",
            "[20 22 24 26 28 30 32 34]\n"
          ]
        }
      ],
      "source": [
        "#Create an array of all the even integers from 20 to 35\n",
        "import numpy as np\n",
        "arr=np.arange(20,35,2)\n",
        "print(\"Array of all the even integers from 20 to 35\")\n",
        "print(arr) "
      ]
    },
    {
      "cell_type": "code",
      "execution_count": null,
      "metadata": {
        "colab": {
          "base_uri": "https://localhost:8080/"
        },
        "id": "axHlIcLfjg-p",
        "outputId": "08be528e-470c-4388-f71c-d12267d504af"
      },
      "outputs": [
        {
          "data": {
            "text/plain": [
              "array([[0, 1, 2],\n",
              "       [3, 4, 5],\n",
              "       [6, 7, 8]])"
            ]
          },
          "execution_count": 36,
          "metadata": {},
          "output_type": "execute_result"
        }
      ],
      "source": [
        "#Create a 3x3 matrix with values ranging from 0 to 8\n",
        "import numpy as np\n",
        "np.arange(0,9).reshape((3,3))"
      ]
    },
    {
      "cell_type": "code",
      "execution_count": null,
      "metadata": {
        "colab": {
          "base_uri": "https://localhost:8080/"
        },
        "id": "Z3pIeKTFkNIY",
        "outputId": "37565a23-94a1-4a6f-e43b-f738a77144f8"
      },
      "outputs": [
        {
          "data": {
            "text/plain": [
              "array([[1, 2, 3],\n",
              "       [4, 5, 6]])"
            ]
          },
          "execution_count": 37,
          "metadata": {},
          "output_type": "execute_result"
        }
      ],
      "source": [
        "#Concatenate a and b\n",
        "import numpy as np\n",
        "a=np.array([[1,2,3]])\n",
        "b=np.array([[4,5,6]])\n",
        "np.concatenate((a, b))"
      ]
    },
    {
      "cell_type": "code",
      "execution_count": null,
      "metadata": {
        "colab": {
          "base_uri": "https://localhost:8080/",
          "height": 143
        },
        "id": "HDitX_NuksLt",
        "outputId": "b148990a-d20a-44f8-8148-79b03e6f7206"
      },
      "outputs": [
        {
          "data": {
            "text/html": [
              "\n",
              "  <div id=\"df-1ed6ca36-2908-4326-9784-0796d03a14b1\">\n",
              "    <div class=\"colab-df-container\">\n",
              "      <div>\n",
              "<style scoped>\n",
              "    .dataframe tbody tr th:only-of-type {\n",
              "        vertical-align: middle;\n",
              "    }\n",
              "\n",
              "    .dataframe tbody tr th {\n",
              "        vertical-align: top;\n",
              "    }\n",
              "\n",
              "    .dataframe thead th {\n",
              "        text-align: right;\n",
              "    }\n",
              "</style>\n",
              "<table border=\"1\" class=\"dataframe\">\n",
              "  <thead>\n",
              "    <tr style=\"text-align: right;\">\n",
              "      <th></th>\n",
              "      <th>a</th>\n",
              "      <th>b</th>\n",
              "    </tr>\n",
              "  </thead>\n",
              "  <tbody>\n",
              "    <tr>\n",
              "      <th>0</th>\n",
              "      <td>1</td>\n",
              "      <td>2</td>\n",
              "    </tr>\n",
              "    <tr>\n",
              "      <th>1</th>\n",
              "      <td>10</td>\n",
              "      <td>20</td>\n",
              "    </tr>\n",
              "    <tr>\n",
              "      <th>2</th>\n",
              "      <td>30</td>\n",
              "      <td>31</td>\n",
              "    </tr>\n",
              "  </tbody>\n",
              "</table>\n",
              "</div>\n",
              "      <button class=\"colab-df-convert\" onclick=\"convertToInteractive('df-1ed6ca36-2908-4326-9784-0796d03a14b1')\"\n",
              "              title=\"Convert this dataframe to an interactive table.\"\n",
              "              style=\"display:none;\">\n",
              "        \n",
              "  <svg xmlns=\"http://www.w3.org/2000/svg\" height=\"24px\"viewBox=\"0 0 24 24\"\n",
              "       width=\"24px\">\n",
              "    <path d=\"M0 0h24v24H0V0z\" fill=\"none\"/>\n",
              "    <path d=\"M18.56 5.44l.94 2.06.94-2.06 2.06-.94-2.06-.94-.94-2.06-.94 2.06-2.06.94zm-11 1L8.5 8.5l.94-2.06 2.06-.94-2.06-.94L8.5 2.5l-.94 2.06-2.06.94zm10 10l.94 2.06.94-2.06 2.06-.94-2.06-.94-.94-2.06-.94 2.06-2.06.94z\"/><path d=\"M17.41 7.96l-1.37-1.37c-.4-.4-.92-.59-1.43-.59-.52 0-1.04.2-1.43.59L10.3 9.45l-7.72 7.72c-.78.78-.78 2.05 0 2.83L4 21.41c.39.39.9.59 1.41.59.51 0 1.02-.2 1.41-.59l7.78-7.78 2.81-2.81c.8-.78.8-2.07 0-2.86zM5.41 20L4 18.59l7.72-7.72 1.47 1.35L5.41 20z\"/>\n",
              "  </svg>\n",
              "      </button>\n",
              "      \n",
              "  <style>\n",
              "    .colab-df-container {\n",
              "      display:flex;\n",
              "      flex-wrap:wrap;\n",
              "      gap: 12px;\n",
              "    }\n",
              "\n",
              "    .colab-df-convert {\n",
              "      background-color: #E8F0FE;\n",
              "      border: none;\n",
              "      border-radius: 50%;\n",
              "      cursor: pointer;\n",
              "      display: none;\n",
              "      fill: #1967D2;\n",
              "      height: 32px;\n",
              "      padding: 0 0 0 0;\n",
              "      width: 32px;\n",
              "    }\n",
              "\n",
              "    .colab-df-convert:hover {\n",
              "      background-color: #E2EBFA;\n",
              "      box-shadow: 0px 1px 2px rgba(60, 64, 67, 0.3), 0px 1px 3px 1px rgba(60, 64, 67, 0.15);\n",
              "      fill: #174EA6;\n",
              "    }\n",
              "\n",
              "    [theme=dark] .colab-df-convert {\n",
              "      background-color: #3B4455;\n",
              "      fill: #D2E3FC;\n",
              "    }\n",
              "\n",
              "    [theme=dark] .colab-df-convert:hover {\n",
              "      background-color: #434B5C;\n",
              "      box-shadow: 0px 1px 3px 1px rgba(0, 0, 0, 0.15);\n",
              "      filter: drop-shadow(0px 1px 2px rgba(0, 0, 0, 0.3));\n",
              "      fill: #FFFFFF;\n",
              "    }\n",
              "  </style>\n",
              "\n",
              "      <script>\n",
              "        const buttonEl =\n",
              "          document.querySelector('#df-1ed6ca36-2908-4326-9784-0796d03a14b1 button.colab-df-convert');\n",
              "        buttonEl.style.display =\n",
              "          google.colab.kernel.accessAllowed ? 'block' : 'none';\n",
              "\n",
              "        async function convertToInteractive(key) {\n",
              "          const element = document.querySelector('#df-1ed6ca36-2908-4326-9784-0796d03a14b1');\n",
              "          const dataTable =\n",
              "            await google.colab.kernel.invokeFunction('convertToInteractive',\n",
              "                                                     [key], {});\n",
              "          if (!dataTable) return;\n",
              "\n",
              "          const docLinkHtml = 'Like what you see? Visit the ' +\n",
              "            '<a target=\"_blank\" href=https://colab.research.google.com/notebooks/data_table.ipynb>data table notebook</a>'\n",
              "            + ' to learn more about interactive tables.';\n",
              "          element.innerHTML = '';\n",
              "          dataTable['output_type'] = 'display_data';\n",
              "          await google.colab.output.renderOutput(dataTable, element);\n",
              "          const docLink = document.createElement('div');\n",
              "          docLink.innerHTML = docLinkHtml;\n",
              "          element.appendChild(docLink);\n",
              "        }\n",
              "      </script>\n",
              "    </div>\n",
              "  </div>\n",
              "  "
            ],
            "text/plain": [
              "    a   b\n",
              "0   1   2\n",
              "1  10  20\n",
              "2  30  31"
            ]
          },
          "execution_count": 38,
          "metadata": {},
          "output_type": "execute_result"
        }
      ],
      "source": [
        "#Create a dataframe with 3 rows and 2 columns\n",
        "import pandas as pd\n",
        "data = [{'a': 1, 'b': 2},{'a': 10, 'b': 20},{'a': 30, 'b': 31}]\n",
        "df = pd.DataFrame(data)\n",
        "df"
      ]
    },
    {
      "cell_type": "code",
      "execution_count": null,
      "metadata": {
        "colab": {
          "base_uri": "https://localhost:8080/"
        },
        "id": "tjG_7Qj_nC-F",
        "outputId": "984b27ba-83ed-4358-b1c0-4350fe82e2cb"
      },
      "outputs": [
        {
          "data": {
            "text/plain": [
              "[datetime.date(2023, 1, 1),\n",
              " datetime.date(2023, 1, 2),\n",
              " datetime.date(2023, 1, 3),\n",
              " datetime.date(2023, 1, 4),\n",
              " datetime.date(2023, 1, 5),\n",
              " datetime.date(2023, 1, 6),\n",
              " datetime.date(2023, 1, 7),\n",
              " datetime.date(2023, 1, 8),\n",
              " datetime.date(2023, 1, 9),\n",
              " datetime.date(2023, 1, 10),\n",
              " datetime.date(2023, 1, 11),\n",
              " datetime.date(2023, 1, 12),\n",
              " datetime.date(2023, 1, 13),\n",
              " datetime.date(2023, 1, 14),\n",
              " datetime.date(2023, 1, 15),\n",
              " datetime.date(2023, 1, 16),\n",
              " datetime.date(2023, 1, 17),\n",
              " datetime.date(2023, 1, 18),\n",
              " datetime.date(2023, 1, 19),\n",
              " datetime.date(2023, 1, 20),\n",
              " datetime.date(2023, 1, 21),\n",
              " datetime.date(2023, 1, 22),\n",
              " datetime.date(2023, 1, 23),\n",
              " datetime.date(2023, 1, 24),\n",
              " datetime.date(2023, 1, 25),\n",
              " datetime.date(2023, 1, 26),\n",
              " datetime.date(2023, 1, 27),\n",
              " datetime.date(2023, 1, 28),\n",
              " datetime.date(2023, 1, 29),\n",
              " datetime.date(2023, 1, 30),\n",
              " datetime.date(2023, 1, 31),\n",
              " datetime.date(2023, 2, 1),\n",
              " datetime.date(2023, 2, 2),\n",
              " datetime.date(2023, 2, 3),\n",
              " datetime.date(2023, 2, 4),\n",
              " datetime.date(2023, 2, 5),\n",
              " datetime.date(2023, 2, 6),\n",
              " datetime.date(2023, 2, 7),\n",
              " datetime.date(2023, 2, 8),\n",
              " datetime.date(2023, 2, 9),\n",
              " datetime.date(2023, 2, 10)]"
            ]
          },
          "execution_count": 39,
          "metadata": {},
          "output_type": "execute_result"
        }
      ],
      "source": [
        "#Generate the series of dates from 1st Jan, 2023 to 10th Feb, 2023\n",
        "import pandas as pd\n",
        "from datetime import date\n",
        "start_date = date(2023, 1, 1)\n",
        "end_date = date(2023, 2, 11)\n",
        "[date.fromordinal(i) for i in range(start_date.toordinal(), end_date.toordinal())]"
      ]
    },
    {
      "cell_type": "code",
      "execution_count": null,
      "metadata": {
        "colab": {
          "base_uri": "https://localhost:8080/"
        },
        "id": "XPpQ2GUqo9XI",
        "outputId": "da45750a-f6c7-4b6f-be7a-2224ee8492da"
      },
      "outputs": [
        {
          "name": "stdout",
          "output_type": "stream",
          "text": [
            "   roll Name  Age\n",
            "0     1  aaa   22\n",
            "1     2  bbb   25\n",
            "2     3  ccc   24\n"
          ]
        }
      ],
      "source": [
        "#Create 2D list to DataFrame\n",
        "import pandas as pd  \n",
        "lists = [[1, 'aaa', 22], [2, 'bbb', 25], [3, 'ccc', 24]]\n",
        "df = pd.DataFrame(lists, columns =['roll','Name', 'Age']) \n",
        "print(df )"
      ]
    }
  ],
  "metadata": {
    "colab": {
      "collapsed_sections": [],
      "provenance": []
    },
    "kernelspec": {
      "display_name": "Python 3",
      "name": "python3"
    },
    "language_info": {
      "name": "python"
    }
  },
  "nbformat": 4,
  "nbformat_minor": 0
}
